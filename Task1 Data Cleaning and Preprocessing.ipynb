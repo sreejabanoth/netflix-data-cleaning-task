{
  "nbformat": 4,
  "nbformat_minor": 0,
  "metadata": {
    "colab": {
      "provenance": []
    },
    "kernelspec": {
      "name": "python3",
      "display_name": "Python 3"
    },
    "language_info": {
      "name": "python"
    }
  },
  "cells": [
    {
      "cell_type": "markdown",
      "source": [
        "1.Load the Dataset"
      ],
      "metadata": {
        "id": "hRnPfNGyisg4"
      }
    },
    {
      "cell_type": "code",
      "execution_count": 1,
      "metadata": {
        "colab": {
          "base_uri": "https://localhost:8080/"
        },
        "id": "AobBndflgb5F",
        "outputId": "081fc7a8-b8f8-43b1-c78e-c9d9826e5770"
      },
      "outputs": [
        {
          "output_type": "stream",
          "name": "stdout",
          "text": [
            "(8807, 12)\n",
            "<class 'pandas.core.frame.DataFrame'>\n",
            "RangeIndex: 8807 entries, 0 to 8806\n",
            "Data columns (total 12 columns):\n",
            " #   Column        Non-Null Count  Dtype \n",
            "---  ------        --------------  ----- \n",
            " 0   show_id       8807 non-null   object\n",
            " 1   type          8807 non-null   object\n",
            " 2   title         8807 non-null   object\n",
            " 3   director      6173 non-null   object\n",
            " 4   cast          7982 non-null   object\n",
            " 5   country       7976 non-null   object\n",
            " 6   date_added    8797 non-null   object\n",
            " 7   release_year  8807 non-null   int64 \n",
            " 8   rating        8803 non-null   object\n",
            " 9   duration      8804 non-null   object\n",
            " 10  listed_in     8807 non-null   object\n",
            " 11  description   8807 non-null   object\n",
            "dtypes: int64(1), object(11)\n",
            "memory usage: 825.8+ KB\n",
            "None\n"
          ]
        }
      ],
      "source": [
        "import pandas as pd\n",
        "df = pd.read_csv(\"netflix_titles.csv\")\n",
        "print(df.shape)\n",
        "print(df.info())"
      ]
    },
    {
      "cell_type": "markdown",
      "source": [
        "2.Identify missing values"
      ],
      "metadata": {
        "id": "38dRh5Lki0-A"
      }
    },
    {
      "cell_type": "code",
      "source": [
        "print(df.isnull().sum())"
      ],
      "metadata": {
        "colab": {
          "base_uri": "https://localhost:8080/"
        },
        "id": "BvlAiknLg_Uk",
        "outputId": "53ee39ab-7340-495d-fd8b-47558d4e8f63"
      },
      "execution_count": 2,
      "outputs": [
        {
          "output_type": "stream",
          "name": "stdout",
          "text": [
            "show_id            0\n",
            "type               0\n",
            "title              0\n",
            "director        2634\n",
            "cast             825\n",
            "country          831\n",
            "date_added        10\n",
            "release_year       0\n",
            "rating             4\n",
            "duration           3\n",
            "listed_in          0\n",
            "description        0\n",
            "dtype: int64\n"
          ]
        }
      ]
    },
    {
      "cell_type": "markdown",
      "source": [
        "3.Handle Missing Data"
      ],
      "metadata": {
        "id": "p0C_Ywz6i-mG"
      }
    },
    {
      "cell_type": "markdown",
      "source": [
        "a) For critical columns:"
      ],
      "metadata": {
        "id": "P_oHeIu9jKOb"
      }
    },
    {
      "cell_type": "code",
      "source": [
        "df.dropna(subset=['director','country','rating','duration'], inplace=True)"
      ],
      "metadata": {
        "id": "2wwZlZEBhEYR"
      },
      "execution_count": 3,
      "outputs": []
    },
    {
      "cell_type": "markdown",
      "source": [
        "b) For less-critical columns:"
      ],
      "metadata": {
        "id": "mOEM7YWJjNsD"
      }
    },
    {
      "cell_type": "code",
      "source": [
        "df['cast'].fillna('Unknown', inplace=True)"
      ],
      "metadata": {
        "colab": {
          "base_uri": "https://localhost:8080/"
        },
        "id": "Tb4Rl-iAhIu9",
        "outputId": "041e7934-b614-4ccf-f28d-7e90ec3da22c"
      },
      "execution_count": 4,
      "outputs": [
        {
          "output_type": "stream",
          "name": "stderr",
          "text": [
            "/tmp/ipython-input-4-382634866.py:1: FutureWarning: A value is trying to be set on a copy of a DataFrame or Series through chained assignment using an inplace method.\n",
            "The behavior will change in pandas 3.0. This inplace method will never work because the intermediate object on which we are setting values always behaves as a copy.\n",
            "\n",
            "For example, when doing 'df[col].method(value, inplace=True)', try using 'df.method({col: value}, inplace=True)' or df[col] = df[col].method(value) instead, to perform the operation inplace on the original object.\n",
            "\n",
            "\n",
            "  df['cast'].fillna('Unknown', inplace=True)\n"
          ]
        }
      ]
    },
    {
      "cell_type": "markdown",
      "source": [
        "c) Alternatively, fill missing values with a mode or placeholder:"
      ],
      "metadata": {
        "id": "MIsOIGf1jTMl"
      }
    },
    {
      "cell_type": "code",
      "source": [
        "df['country'].fillna(df['country'].mode()[0], inplace=True)"
      ],
      "metadata": {
        "colab": {
          "base_uri": "https://localhost:8080/"
        },
        "id": "YESus6LehjlV",
        "outputId": "1f1eca93-dfcd-4018-9169-6787962c2438"
      },
      "execution_count": 5,
      "outputs": [
        {
          "output_type": "stream",
          "name": "stderr",
          "text": [
            "/tmp/ipython-input-5-2863300244.py:1: FutureWarning: A value is trying to be set on a copy of a DataFrame or Series through chained assignment using an inplace method.\n",
            "The behavior will change in pandas 3.0. This inplace method will never work because the intermediate object on which we are setting values always behaves as a copy.\n",
            "\n",
            "For example, when doing 'df[col].method(value, inplace=True)', try using 'df.method({col: value}, inplace=True)' or df[col] = df[col].method(value) instead, to perform the operation inplace on the original object.\n",
            "\n",
            "\n",
            "  df['country'].fillna(df['country'].mode()[0], inplace=True)\n"
          ]
        }
      ]
    },
    {
      "cell_type": "markdown",
      "source": [
        "4. Remove Duplicates"
      ],
      "metadata": {
        "id": "Um--0aVUjYuH"
      }
    },
    {
      "cell_type": "code",
      "source": [
        "df.drop_duplicates(inplace=True)"
      ],
      "metadata": {
        "id": "pP4Z4Bvyho0L"
      },
      "execution_count": 6,
      "outputs": []
    },
    {
      "cell_type": "code",
      "source": [
        "df.drop_duplicates(subset='title', keep='first', inplace=True)"
      ],
      "metadata": {
        "id": "sV3WVF9QhtCN"
      },
      "execution_count": 7,
      "outputs": []
    },
    {
      "cell_type": "markdown",
      "source": [
        "5. Clean & Transform Columns"
      ],
      "metadata": {
        "id": "hLBGcx1JjjYz"
      }
    },
    {
      "cell_type": "code",
      "source": [
        "df['show_id'] = df['show_id'].str.replace('s','')"
      ],
      "metadata": {
        "id": "PMTUSBEDhw5X"
      },
      "execution_count": 8,
      "outputs": []
    },
    {
      "cell_type": "code",
      "source": [
        "df['cast'] = df['cast'].str.split(',').str[0]"
      ],
      "metadata": {
        "id": "ns1S-Innh0Wb"
      },
      "execution_count": 9,
      "outputs": []
    },
    {
      "cell_type": "markdown",
      "source": [
        "6. Standardize Date Formats"
      ],
      "metadata": {
        "id": "yjSBhI1ijpdW"
      }
    },
    {
      "cell_type": "code",
      "source": [
        "df['date_added'] = pd.to_datetime(df['date_added'].str.strip(), format='mixed', dayfirst=False, errors='coerce')"
      ],
      "metadata": {
        "id": "ovvDkaBKh5Eh"
      },
      "execution_count": 11,
      "outputs": []
    },
    {
      "cell_type": "markdown",
      "source": [
        "7. Convert Data Types"
      ],
      "metadata": {
        "id": "e8j9rnXNj0mU"
      }
    },
    {
      "cell_type": "code",
      "source": [
        "df['release_year'] = df['release_year'].astype(int)\n",
        "# To get numeric duration:\n",
        "def get_duration(x):\n",
        "    return int(x.split()[0])\n",
        "df['duration_int'] = df['duration'].apply(get_duration)"
      ],
      "metadata": {
        "id": "zCLDnG9FiOzR"
      },
      "execution_count": 12,
      "outputs": []
    },
    {
      "cell_type": "markdown",
      "source": [
        "8. Rename Columns"
      ],
      "metadata": {
        "id": "Ymz-fw6Uj-Sc"
      }
    },
    {
      "cell_type": "code",
      "source": [
        "df.columns = df.columns.str.lower().str.replace(' ', '_')"
      ],
      "metadata": {
        "id": "TBfiuKhYiVIK"
      },
      "execution_count": 13,
      "outputs": []
    },
    {
      "cell_type": "markdown",
      "source": [
        "9.  Save the Cleaned Dataset"
      ],
      "metadata": {
        "id": "aMfldDn4kGu2"
      }
    },
    {
      "cell_type": "code",
      "source": [
        "df.to_csv(\"netflix_cleaned.csv\", index=False)"
      ],
      "metadata": {
        "id": "MCoUzeaLiZeK"
      },
      "execution_count": 14,
      "outputs": []
    },
    {
      "cell_type": "code",
      "source": [
        "import pandas as pd\n",
        "df = pd.read_csv(\"/content/netflix_cleaned.csv\")\n",
        "print(df.shape)\n",
        "print(df.info())"
      ],
      "metadata": {
        "colab": {
          "base_uri": "https://localhost:8080/"
        },
        "id": "z-o9hMdDiiNm",
        "outputId": "6f125a3d-24aa-4b61-9394-29aeeb4c885a"
      },
      "execution_count": 15,
      "outputs": [
        {
          "output_type": "stream",
          "name": "stdout",
          "text": [
            "(5747, 13)\n",
            "<class 'pandas.core.frame.DataFrame'>\n",
            "RangeIndex: 5747 entries, 0 to 5746\n",
            "Data columns (total 13 columns):\n",
            " #   Column        Non-Null Count  Dtype \n",
            "---  ------        --------------  ----- \n",
            " 0   show_id       5747 non-null   int64 \n",
            " 1   type          5747 non-null   object\n",
            " 2   title         5747 non-null   object\n",
            " 3   director      5747 non-null   object\n",
            " 4   cast          5747 non-null   object\n",
            " 5   country       5747 non-null   object\n",
            " 6   date_added    5747 non-null   object\n",
            " 7   release_year  5747 non-null   int64 \n",
            " 8   rating        5747 non-null   object\n",
            " 9   duration      5747 non-null   object\n",
            " 10  listed_in     5747 non-null   object\n",
            " 11  description   5747 non-null   object\n",
            " 12  duration_int  5747 non-null   int64 \n",
            "dtypes: int64(3), object(10)\n",
            "memory usage: 583.8+ KB\n",
            "None\n"
          ]
        }
      ]
    }
  ]
}